{
 "cells": [
  {
   "cell_type": "code",
   "execution_count": 1,
   "metadata": {},
   "outputs": [],
   "source": [
    "from IPython.display import clear_output\n",
    "\n",
    "def display_board(board):\n",
    "    clear_output()\n",
    "    print(board[7]+'|'+board[8]+'|'+board[9])\n",
    "    print(board[4]+'|'+board[5]+'|'+board[6])\n",
    "    print(board[1]+'|'+board[2]+'|'+board[3])\n"
   ]
  },
  {
   "cell_type": "code",
   "execution_count": null,
   "metadata": {},
   "outputs": [],
   "source": []
  },
  {
   "cell_type": "code",
   "execution_count": null,
   "metadata": {},
   "outputs": [],
   "source": [
    "test_board = ['#',' ','O',' ',' ','X','O','X','O','X']\n",
    "display_board(test_board)"
   ]
  },
  {
   "cell_type": "code",
   "execution_count": 2,
   "metadata": {},
   "outputs": [],
   "source": [
    "def player_input():\n",
    "    player1=''\n",
    "    while not(player1=='X' or player1=='O'):\n",
    "        player1 = input(\"Player 1 please pick a marker 'X' or 'O'\").upper()\n",
    "    else:\n",
    "        if player1=='X':\n",
    "            player2='O'\n",
    "        else:\n",
    "            player2='X'\n",
    "        return (player1,player2)"
   ]
  },
  {
   "cell_type": "code",
   "execution_count": null,
   "metadata": {},
   "outputs": [],
   "source": []
  },
  {
   "cell_type": "code",
   "execution_count": 3,
   "metadata": {},
   "outputs": [],
   "source": [
    "def place_marker(board, marker, position):\n",
    "    if board[position]==' ':\n",
    "        board[position]=marker\n",
    "    else:\n",
    "        print('This place is already taken')"
   ]
  },
  {
   "cell_type": "code",
   "execution_count": null,
   "metadata": {},
   "outputs": [],
   "source": [
    "test_board = list(' ')*10"
   ]
  },
  {
   "cell_type": "code",
   "execution_count": null,
   "metadata": {},
   "outputs": [],
   "source": [
    "place_marker(test_board,'$',1)\n",
    "display_board(test_board)"
   ]
  },
  {
   "cell_type": "code",
   "execution_count": 4,
   "metadata": {},
   "outputs": [],
   "source": [
    "def win_check(board, mark):\n",
    "    if board.count(mark)>2:\n",
    "        win = (board[1]==board[2]==board[3]==mark)\n",
    "        win = (win or board[1]==board[5]==board[9]==mark)\n",
    "        win = (win or board[1]==board[4]==board[7]==mark)\n",
    "        win = (win or board[2]==board[5]==board[8]==mark)\n",
    "        win = (win or board[3]==board[5]==board[7]==mark)\n",
    "        win = (win or board[3]==board[6]==board[9]==mark)\n",
    "        win = (win or board[4]==board[5]==board[6]==mark)\n",
    "        win = (win or board[7]==board[8]==board[9]==mark)\n",
    "        if win:\n",
    "            return 1\n",
    "        else:\n",
    "            return 0\n",
    "    else:\n",
    "        return 0"
   ]
  },
  {
   "cell_type": "code",
   "execution_count": null,
   "metadata": {},
   "outputs": [],
   "source": [
    "test_board = ['#','X',' ','X','O','O','O','X','O','X']\n",
    "display_board(test_board)\n",
    "win_check(test_board, 'X')"
   ]
  },
  {
   "cell_type": "code",
   "execution_count": 5,
   "metadata": {},
   "outputs": [],
   "source": [
    "import random\n",
    "\n",
    "def choose_first():\n",
    "    return random.randint(1,2)"
   ]
  },
  {
   "cell_type": "code",
   "execution_count": null,
   "metadata": {},
   "outputs": [],
   "source": [
    "choose_first()"
   ]
  },
  {
   "cell_type": "code",
   "execution_count": 6,
   "metadata": {},
   "outputs": [],
   "source": [
    "def space_check(board, position):\n",
    "    if board[position]==' ':\n",
    "        return True\n",
    "    else:\n",
    "        return False"
   ]
  },
  {
   "cell_type": "code",
   "execution_count": null,
   "metadata": {},
   "outputs": [],
   "source": [
    "test_board = ['#','X',' ','X','O','O','O','X','O','X']\n",
    "space_check(test_board, 3)"
   ]
  },
  {
   "cell_type": "code",
   "execution_count": 7,
   "metadata": {},
   "outputs": [],
   "source": [
    "def full_board_check(board):\n",
    "    if (9-board[1:].count(' '))>8:\n",
    "        return True\n",
    "    else:\n",
    "        return False"
   ]
  },
  {
   "cell_type": "code",
   "execution_count": null,
   "metadata": {},
   "outputs": [],
   "source": [
    "full_board_check(test_board)"
   ]
  },
  {
   "cell_type": "code",
   "execution_count": 8,
   "metadata": {},
   "outputs": [],
   "source": [
    "def player_choice(board):\n",
    "    position=20\n",
    "    while not (0<position<10):\n",
    "        position=int(input(\"Please enter field 1-9\"))\n",
    "        \n",
    "    if space_check(board, position):\n",
    "        return position\n",
    "    else:\n",
    "        return -1\n",
    "    "
   ]
  },
  {
   "cell_type": "code",
   "execution_count": null,
   "metadata": {},
   "outputs": [],
   "source": [
    "player_choice(test_board)"
   ]
  },
  {
   "cell_type": "code",
   "execution_count": 9,
   "metadata": {},
   "outputs": [],
   "source": [
    "def replay():\n",
    "    answer=''\n",
    "    while not(answer==\"yes\" or answer==\"no\"):\n",
    "        answer=input(\"Would you like to play again? 'yes' or 'no'?\").lower()\n",
    "    else:\n",
    "        if answer=='yes':\n",
    "            return True\n",
    "        else:\n",
    "            return False\n"
   ]
  },
  {
   "cell_type": "code",
   "execution_count": 2,
   "metadata": {},
   "outputs": [
    {
     "ename": "NameError",
     "evalue": "name 'replay' is not defined",
     "output_type": "error",
     "traceback": [
      "\u001b[1;31m---------------------------------------------------------------------------\u001b[0m",
      "\u001b[1;31mNameError\u001b[0m                                 Traceback (most recent call last)",
      "\u001b[1;32m<ipython-input-2-e51cc60ab1a5>\u001b[0m in \u001b[0;36m<module>\u001b[1;34m\u001b[0m\n\u001b[1;32m----> 1\u001b[1;33m \u001b[0mreplay\u001b[0m\u001b[1;33m(\u001b[0m\u001b[1;33m)\u001b[0m\u001b[1;33m\u001b[0m\u001b[1;33m\u001b[0m\u001b[0m\n\u001b[0m",
      "\u001b[1;31mNameError\u001b[0m: name 'replay' is not defined"
     ]
    }
   ],
   "source": [
    "replay()"
   ]
  },
  {
   "cell_type": "code",
   "execution_count": null,
   "metadata": {},
   "outputs": [
    {
     "name": "stdout",
     "output_type": "stream",
     "text": [
      "O|O|X\n",
      "O|X|O\n",
      "X|X|X\n",
      "Player 1 have won!\n",
      "this is tie!!!\n"
     ]
    }
   ],
   "source": [
    "print('Welcome to Tic Tac Toe!')\n",
    "\n",
    "while True:\n",
    "    board = list(' ')*10\n",
    "    marker=player_input()\n",
    "    first_step=choose_first()\n",
    "    display_board(board)\n",
    "    #pass\n",
    "\n",
    "    while not full_board_check(board):\n",
    "        if first_step==1:\n",
    "            print ('Player 1')\n",
    "            position=player_choice(board)\n",
    "            while position==-1:\n",
    "                position=player_choice(board)\n",
    "            else:\n",
    "                place_marker(board, marker[0], position)\n",
    "                display_board(board)\n",
    "                if win_check(board, marker[0]):\n",
    "                    print ('Player 1 have won!')\n",
    "                    break\n",
    "            if not full_board_check(board):\n",
    "                print ('Player 2')\n",
    "                position=player_choice(board)\n",
    "                while position==-1:\n",
    "                    position=player_choice(board)\n",
    "                else:\n",
    "                    place_marker(board, marker[1], position)\n",
    "                    display_board(board)\n",
    "                    if win_check(board, marker[1]):\n",
    "                        print ('Player 2 have won!')\n",
    "                        break\n",
    "        else:    \n",
    "            print ('Player 2')\n",
    "            position=player_choice(board)\n",
    "            while position==-1:\n",
    "                position=player_choice(board)\n",
    "            else:\n",
    "                place_marker(board, marker[1], position)\n",
    "                display_board(board)\n",
    "                if win_check(board, marker[1]):\n",
    "                    print ('Player 2 have won!')\n",
    "                    break\n",
    "            if not full_board_check(board):\n",
    "                print ('Player 1')\n",
    "                position=player_choice(board)\n",
    "                while position==-1:\n",
    "                    position=player_choice(board)\n",
    "                else:\n",
    "                    place_marker(board, marker[0], position)\n",
    "                    display_board(board)\n",
    "                    if win_check(board, marker[0]):\n",
    "                        print ('Player 1 have won!')\n",
    "                        break\n",
    "    else:\n",
    "        print('this is tie!!!')\n",
    "    if not replay():\n",
    "        break"
   ]
  },
  {
   "cell_type": "code",
   "execution_count": null,
   "metadata": {},
   "outputs": [],
   "source": [
    "A"
   ]
  },
  {
   "cell_type": "code",
   "execution_count": null,
   "metadata": {},
   "outputs": [],
   "source": []
  }
 ],
 "metadata": {
  "kernelspec": {
   "display_name": "Python 3",
   "language": "python",
   "name": "python3"
  },
  "language_info": {
   "codemirror_mode": {
    "name": "ipython",
    "version": 3
   },
   "file_extension": ".py",
   "mimetype": "text/x-python",
   "name": "python",
   "nbconvert_exporter": "python",
   "pygments_lexer": "ipython3",
   "version": "3.7.4"
  }
 },
 "nbformat": 4,
 "nbformat_minor": 2
}
