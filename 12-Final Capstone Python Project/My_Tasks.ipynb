{
 "cells": [
  {
   "cell_type": "markdown",
   "metadata": {},
   "source": [
    "# Fibonacci Sequence\n",
    "Enter a number and have the program generate the Fibonacci sequence to that number or to the Nth number."
   ]
  },
  {
   "cell_type": "code",
   "execution_count": 3,
   "metadata": {},
   "outputs": [
    {
     "name": "stdout",
     "output_type": "stream",
     "text": [
      "1\n",
      "1\n",
      "2\n",
      "3\n",
      "5\n",
      "8\n",
      "13\n",
      "21\n",
      "34\n",
      "55\n"
     ]
    }
   ],
   "source": [
    "def fibonaci(n):\n",
    "    a = 1\n",
    "    b = 1\n",
    "    for i in range(n):\n",
    "        yield a\n",
    "        a,b = b,b+a\n",
    "\n",
    "for i in fibonaci(10):\n",
    "    print(i)\n"
   ]
  },
  {
   "cell_type": "markdown",
   "metadata": {},
   "source": [
    "# Prime Factorization \n",
    "Have the user enter a number and find all Prime Factors (if there are any) and display them."
   ]
  },
  {
   "cell_type": "code",
   "execution_count": 13,
   "metadata": {},
   "outputs": [],
   "source": [
    "from functools import reduce\n",
    "def PrimeNumbersList(MaxNumber):\n",
    "    L=[2]\n",
    "    if MaxNumber > 2:\n",
    "        for i in range(3,MaxNumber+1,2):\n",
    "            if not(reduce(lambda l,m: l or m,list(map(lambda x: i%x==0,L )))):\n",
    "                L.append(i)\n",
    "    return L\n",
    " \n",
    "def PrimeFactor(N):\n",
    "    return list(filter(lambda x: N%x==0,PrimeNumbersList(N)))"
   ]
  },
  {
   "cell_type": "code",
   "execution_count": 16,
   "metadata": {},
   "outputs": [
    {
     "data": {
      "text/plain": [
       "[2, 3]"
      ]
     },
     "execution_count": 16,
     "metadata": {},
     "output_type": "execute_result"
    }
   ],
   "source": [
    "PrimeNumbersList(3)"
   ]
  },
  {
   "cell_type": "code",
   "execution_count": 18,
   "metadata": {},
   "outputs": [
    {
     "data": {
      "text/plain": [
       "[5, 11]"
      ]
     },
     "execution_count": 18,
     "metadata": {},
     "output_type": "execute_result"
    }
   ],
   "source": [
    "PrimeFactor(55)"
   ]
  },
  {
   "cell_type": "markdown",
   "metadata": {},
   "source": [
    "# Find PI to the Nth Digit\n",
    "\n",
    "Here is a very interesting formula for pi, discovered by David Bailey, Peter Borwein, and Simon Plouffe in 1995:\n",
    "Pi = SUMk=0 to infinity 16^-k [ 4/(8k+1) – 2/(8k+4) – 1/(8k+5) – 1/(8k+6) ]."
   ]
  },
  {
   "cell_type": "code",
   "execution_count": 60,
   "metadata": {},
   "outputs": [],
   "source": [
    "from __future__ import division\n",
    "import math\n",
    "from decimal import Decimal as D\n",
    "from decimal import getcontext\n",
    "\n",
    "def term(N_digit):\n",
    "\n",
    "    getcontext().prec = 10*(N_digit+1)\n",
    "    MAX = N_digit+1\n",
    "    pi=D(0)\n",
    "    u = \"1.\"\n",
    "    #k=N_digit\n",
    "    for k in range(MAX):\n",
    "        pi += D(math.pow(16, -k)) * (D(4/(8*k+1)) - D(2/(8*k+4)) - D(1/(8*k+5)) - D(1/(8*k+6)))\n",
    "        if k>0:\n",
    "            u +=\"0\"\n",
    "    return pi.quantize(D(u))\n",
    " "
   ]
  },
  {
   "cell_type": "code",
   "execution_count": 67,
   "metadata": {},
   "outputs": [
    {
     "name": "stdout",
     "output_type": "stream",
     "text": [
      "3.14159265358979323560254181214137928586630671561014921868455178665025215346963263730911785215115971453711742794521158467222631243984205037768560924170157248795651533625645188465330802599915669952945818437695525200108569345373764980018760512394382616992491903097018977076078830132190062439569370267623486499538481285431022064205730563755408652494896007779549994137803429527120438528157728314758753662335472871657436830812156948803509179878584637464497198495934558926496325375722208271144240797260966952641772613118383847491592806055858140691249860247884023751199079532926191998763664261196497458195735023093280741209428955942948996514287831074023512526767276747776257516189532388705984133564437767549028887932117877792112162370649243694990889736619528007259809435207291697590460998114904258843057153391087802604194043454242983109675442891841163509414234396786931071828489341110826174798063620829566699410562245946292872164888254272528464609832495574309961707474698482002965208950355130151847031601969262750968977695692009624029040753281684698612830382085209850919346248235796020402070243611553578520767526782719869515858590602874756\n"
     ]
    }
   ],
   "source": [
    "print(term(1130))"
   ]
  },
  {
   "cell_type": "code",
   "execution_count": 23,
   "metadata": {},
   "outputs": [
    {
     "data": {
      "text/plain": [
       "Decimal('3.133333333333333331482961626')"
      ]
     },
     "execution_count": 23,
     "metadata": {},
     "output_type": "execute_result"
    }
   ],
   "source": [
    "k=0\n",
    "D((D(4/(8*k+1)) - D(2/(8*k+4)) - D(1/(8*k+5)) - D(1/(8*k+6))))"
   ]
  },
  {
   "cell_type": "markdown",
   "metadata": {},
   "source": [
    "# Find Cost of Tile to Cover W x H Floor "
   ]
  },
  {
   "cell_type": "code",
   "execution_count": 71,
   "metadata": {},
   "outputs": [
    {
     "name": "stdout",
     "output_type": "stream",
     "text": [
      "Cost por m^2: 12.5\n",
      "meters of the width: 15\n",
      "meters of the height: 3.25\n",
      "The cost is: 609.38 $\n"
     ]
    }
   ],
   "source": [
    "def ask():\n",
    "    cost = float(input(\"Cost por m^2: \"))\n",
    "    width = float(input(\"meters of the width: \"))\n",
    "    height = float(input(\"meters of the height: \"))\n",
    "    return cost, width, height\n",
    "\n",
    "\n",
    "def main():\n",
    "    a,b,c = ask()\n",
    "    print (\"The cost is: %.2f $\" % (float(a * b * c)))\n",
    "\n",
    "if __name__ == \"__main__\":\n",
    "    main()"
   ]
  },
  {
   "cell_type": "code",
   "execution_count": 83,
   "metadata": {},
   "outputs": [
    {
     "data": {
      "text/plain": [
       "True"
      ]
     },
     "execution_count": 83,
     "metadata": {},
     "output_type": "execute_result"
    }
   ],
   "source": [
    "(type(bin(8))==str and bin(8)[:2]=='0b')"
   ]
  },
  {
   "cell_type": "code",
   "execution_count": 85,
   "metadata": {},
   "outputs": [
    {
     "ename": "ValueError",
     "evalue": "invalid literal for int() with base 10: '0b1000'",
     "output_type": "error",
     "traceback": [
      "\u001b[1;31m---------------------------------------------------------------------------\u001b[0m",
      "\u001b[1;31mValueError\u001b[0m                                Traceback (most recent call last)",
      "\u001b[1;32m<ipython-input-85-c2d6e57abca9>\u001b[0m in \u001b[0;36m<module>\u001b[1;34m\u001b[0m\n\u001b[1;32m----> 1\u001b[1;33m \u001b[0mint\u001b[0m\u001b[1;33m(\u001b[0m\u001b[0mbin\u001b[0m\u001b[1;33m(\u001b[0m\u001b[1;36m8\u001b[0m\u001b[1;33m)\u001b[0m\u001b[1;33m)\u001b[0m\u001b[1;33m\u001b[0m\u001b[1;33m\u001b[0m\u001b[0m\n\u001b[0m",
      "\u001b[1;31mValueError\u001b[0m: invalid literal for int() with base 10: '0b1000'"
     ]
    }
   ],
   "source": [
    "int(bin(8))"
   ]
  },
  {
   "cell_type": "markdown",
   "metadata": {},
   "source": [
    "# Binary to Decimal and Back Converter"
   ]
  },
  {
   "cell_type": "code",
   "execution_count": 87,
   "metadata": {},
   "outputs": [],
   "source": [
    "def dec2bin(number):\n",
    "    return bin(number).replace('0b','')"
   ]
  },
  {
   "cell_type": "code",
   "execution_count": 88,
   "metadata": {},
   "outputs": [
    {
     "data": {
      "text/plain": [
       "'11000011100000010'"
      ]
     },
     "execution_count": 88,
     "metadata": {},
     "output_type": "execute_result"
    }
   ],
   "source": [
    "dec2bin(100098)"
   ]
  },
  {
   "cell_type": "code",
   "execution_count": 100,
   "metadata": {},
   "outputs": [],
   "source": [
    "def bin2dec(binary):\n",
    "    k=binary\n",
    "    t=0\n",
    "    i=0\n",
    "    while k!=0:\n",
    "        a=k%10\n",
    "        t += a*2**i\n",
    "        k=k//10\n",
    "        i+=1\n",
    "    return t\n",
    "    "
   ]
  },
  {
   "cell_type": "code",
   "execution_count": 102,
   "metadata": {},
   "outputs": [
    {
     "data": {
      "text/plain": [
       "136"
      ]
     },
     "execution_count": 102,
     "metadata": {},
     "output_type": "execute_result"
    }
   ],
   "source": [
    "bin2dec(10001000)"
   ]
  },
  {
   "cell_type": "code",
   "execution_count": null,
   "metadata": {},
   "outputs": [],
   "source": []
  },
  {
   "cell_type": "code",
   "execution_count": null,
   "metadata": {},
   "outputs": [],
   "source": []
  }
 ],
 "metadata": {
  "kernelspec": {
   "display_name": "Python 3",
   "language": "python",
   "name": "python3"
  },
  "language_info": {
   "codemirror_mode": {
    "name": "ipython",
    "version": 3
   },
   "file_extension": ".py",
   "mimetype": "text/x-python",
   "name": "python",
   "nbconvert_exporter": "python",
   "pygments_lexer": "ipython3",
   "version": "3.7.4"
  }
 },
 "nbformat": 4,
 "nbformat_minor": 2
}
